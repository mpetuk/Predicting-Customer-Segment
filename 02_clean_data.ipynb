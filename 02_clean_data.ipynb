{
 "cells": [
  {
   "cell_type": "code",
   "execution_count": 3,
   "metadata": {
    "collapsed": true
   },
   "outputs": [],
   "source": [
    "import pandas as pd\n",
    "import pickle"
   ]
  },
  {
   "cell_type": "code",
   "execution_count": 4,
   "metadata": {
    "collapsed": false
   },
   "outputs": [],
   "source": [
    "### Connect to my AWC instance and pull the data from postgres table 'proj3'\n",
    "from login import cnx\n",
    "df = pd.read_sql_query('''SELECT * FROM proj3''',cnx)"
   ]
  },
  {
   "cell_type": "code",
   "execution_count": 5,
   "metadata": {
    "collapsed": false
   },
   "outputs": [
    {
     "data": {
      "text/plain": [
       "(3154, 671)"
      ]
     },
     "execution_count": 5,
     "metadata": {},
     "output_type": "execute_result"
    }
   ],
   "source": [
    "df.shape"
   ]
  },
  {
   "cell_type": "code",
   "execution_count": 6,
   "metadata": {
    "collapsed": false
   },
   "outputs": [],
   "source": [
    "### delete columns with more than 10% missing values\n",
    "for c in df:\n",
    "    if sum(df[c].isnull())/df.shape[0] >= 0.1:\n",
    "        df.drop(c, axis=1, inplace=True)"
   ]
  },
  {
   "cell_type": "code",
   "execution_count": 7,
   "metadata": {
    "collapsed": false
   },
   "outputs": [],
   "source": [
    "### drop index inherited from dataframe\n",
    "df = df.drop('crap',axis=1)"
   ]
  },
  {
   "cell_type": "code",
   "execution_count": 8,
   "metadata": {
    "collapsed": false
   },
   "outputs": [
    {
     "data": {
      "text/plain": [
       "(3154, 496)"
      ]
     },
     "execution_count": 8,
     "metadata": {},
     "output_type": "execute_result"
    }
   ],
   "source": [
    "df.shape"
   ]
  },
  {
   "cell_type": "code",
   "execution_count": 9,
   "metadata": {
    "collapsed": false
   },
   "outputs": [],
   "source": [
    "### Separate columns into two lists: dummies and continuous\n",
    "dummies = []\n",
    "cont = []\n",
    "for column in df.columns:\n",
    "    if df[column].nunique() == 2:\n",
    "        dummies.append(column)\n",
    "    else:\n",
    "        cont.append(column)          "
   ]
  },
  {
   "cell_type": "code",
   "execution_count": 10,
   "metadata": {
    "collapsed": false
   },
   "outputs": [],
   "source": [
    "### Fill missing continuous values with medians\n",
    "df_c = df[cont].fillna(df.median())"
   ]
  },
  {
   "cell_type": "code",
   "execution_count": 11,
   "metadata": {
    "collapsed": false
   },
   "outputs": [
    {
     "data": {
      "text/plain": [
       "(3154, 44)"
      ]
     },
     "execution_count": 11,
     "metadata": {},
     "output_type": "execute_result"
    }
   ],
   "source": [
    "df_c.shape"
   ]
  },
  {
   "cell_type": "code",
   "execution_count": 12,
   "metadata": {
    "collapsed": false
   },
   "outputs": [],
   "source": [
    "### Fill missing dummies with zeros (as they are all indicators)\n",
    "df_d = df[dummies].fillna(0)"
   ]
  },
  {
   "cell_type": "code",
   "execution_count": 13,
   "metadata": {
    "collapsed": false
   },
   "outputs": [
    {
     "data": {
      "text/plain": [
       "(3154, 452)"
      ]
     },
     "execution_count": 13,
     "metadata": {},
     "output_type": "execute_result"
    }
   ],
   "source": [
    "df_d.shape"
   ]
  },
  {
   "cell_type": "code",
   "execution_count": 14,
   "metadata": {
    "collapsed": true
   },
   "outputs": [],
   "source": [
    "### Drop non-features from the list of continues columns\n",
    "cont_clean = list(filter(lambda x: x not in ('id','segment','wt_ppl'), df_c))"
   ]
  },
  {
   "cell_type": "code",
   "execution_count": 15,
   "metadata": {
    "collapsed": false
   },
   "outputs": [],
   "source": [
    "### Arrange inputs into X dataframe, weights into wt series, and segments into y series and \n",
    "### y_ (numeric representation of y) series\n",
    "X = pd.concat([df_d, df_c[cont_clean]], axis=1)\n",
    "wt= df['wt_ppl']\n",
    "y_ = pd.to_numeric(df['segment'])\n",
    "y = df['segment'].apply(lambda x: x.zfill(2))"
   ]
  },
  {
   "cell_type": "code",
   "execution_count": 16,
   "metadata": {
    "collapsed": false
   },
   "outputs": [
    {
     "name": "stdout",
     "output_type": "stream",
     "text": [
      "(3154, 493)\n",
      "(3154,)\n",
      "(3154,)\n",
      "(3154,)\n"
     ]
    }
   ],
   "source": [
    "print(X.shape)\n",
    "print(wt.shape)\n",
    "print(y.shape)\n",
    "print(y_.shape)"
   ]
  },
  {
   "cell_type": "code",
   "execution_count": 29,
   "metadata": {
    "collapsed": false
   },
   "outputs": [
    {
     "data": {
      "text/plain": [
       "01    202\n",
       "02    216\n",
       "03    220\n",
       "04    315\n",
       "05    393\n",
       "06    288\n",
       "07    325\n",
       "08    225\n",
       "09    132\n",
       "10    287\n",
       "11    253\n",
       "12    298\n",
       "Name: segment, dtype: int64"
      ]
     },
     "execution_count": 29,
     "metadata": {},
     "output_type": "execute_result"
    }
   ],
   "source": [
    "### Counts by segment\n",
    "y.value_counts().sort_index()"
   ]
  },
  {
   "cell_type": "code",
   "execution_count": 17,
   "metadata": {
    "collapsed": true
   },
   "outputs": [],
   "source": [
    "### Save as pickle files\n",
    "pickle.dump(X, open(\"inputs.p\",'wb'))\n",
    "pickle.dump(wt, open(\"weights.p\",'wb'))\n",
    "pickle.dump(y, open(\"target.p\",'wb'))\n",
    "pickle.dump(y_, open(\"target_.p\",'wb'))"
   ]
  },
  {
   "cell_type": "code",
   "execution_count": 62,
   "metadata": {
    "collapsed": false
   },
   "outputs": [
    {
     "data": {
      "image/png": "[encoded data removed]",
      "text/plain": [
       "<matplotlib.figure.Figure at 0x1343afba8>"
      ]
     },
     "metadata": {},
     "output_type": "display_data"
    }
   ],
   "source": [
    "### Get class distribution chart\n",
    "\n",
    "import matplotlib.pyplot as plt\n",
    "%matplotlib inline\n",
    "fig, ax1 = plt.subplots()\n",
    "ax2 = ax1.twinx()\n",
    "\n",
    "plt.title('Segment Distribution')\n",
    "\n",
    "ax1.set_xlabel('Segment')\n",
    "ax1.set_ylabel('Number of Respondents', color='g')\n",
    "ax2.set_ylabel('% of Total', color='b')\n",
    "y.value_counts().sort_index(ascending=True).plot(ax=ax1, kind='bar',color='g')\n",
    "y_dist.sort_index(ascending=True).plot(ax=ax2, kind='bar',color='g')\n",
    "\n",
    "plt.savefig('Segment_Distr.png', bbox_inches='tight')"
   ]
  },
  {
   "cell_type": "code",
   "execution_count": null,
   "metadata": {
    "collapsed": true
   },
   "outputs": [],
   "source": []
  }
 ],
 "metadata": {
  "kernelspec": {
   "display_name": "Python 3",
   "language": "python",
   "name": "python3"
  },
  "language_info": {
   "codemirror_mode": {
    "name": "ipython",
    "version": 3
   },
   "file_extension": ".py",
   "mimetype": "text/x-python",
   "name": "python",
   "nbconvert_exporter": "python",
   "pygments_lexer": "ipython3",
   "version": "3.6.0"
  },
  "toc": {
   "colors": {
    "hover_highlight": "#DAA520",
    "running_highlight": "#FF0000",
    "selected_highlight": "#FFD700"
   },
   "moveMenuLeft": true,
   "nav_menu": {
    "height": "12px",
    "width": "252px"
   },
   "navigate_menu": true,
   "number_sections": true,
   "sideBar": true,
   "threshold": 4,
   "toc_cell": false,
   "toc_section_display": "block",
   "toc_window_display": false,
   "widenNotebook": false
  }
 },
 "nbformat": 4,
 "nbformat_minor": 2
}
