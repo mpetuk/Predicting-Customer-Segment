{
 "cells": [
  {
   "cell_type": "code",
   "execution_count": 17,
   "metadata": {
    "collapsed": false
   },
   "outputs": [],
   "source": [
    "import numpy as np\n",
    "import pandas as pd\n",
    "import matplotlib.pyplot as plt\n",
    "#from sklearn.cross_validation import train_test_split\n",
    "from sklearn.model_selection import train_test_split\n",
    "from sklearn.model_selection import ShuffleSplit\n",
    "from sklearn.preprocessing import StandardScaler\n",
    "from sklearn import metrics\n",
    "import pickle\n",
    "from sklearn.decomposition import PCA\n",
    "\n",
    "%matplotlib inline"
   ]
  },
  {
   "cell_type": "code",
   "execution_count": 18,
   "metadata": {
    "collapsed": false
   },
   "outputs": [],
   "source": [
    "### Read in inputs dataframe as well as weights and target series from job 03_var_reduction.ipynb\n",
    "new_X_train = pickle.load(open(\"new_train_inputs.p\",'rb'))\n",
    "new_X_test = pickle.load(open(\"new_test_inputs.p\",'rb'))\n",
    "y_train = pickle.load(open(\"y_train.p\",'rb'))\n",
    "y_test = pickle.load(open(\"y_test.p\",'rb'))\n",
    "wt_train_ = pickle.load(open(\"wt_train_.p\",'rb'))\n",
    "wt_test_ = pickle.load(open(\"wt_test_.p\",'rb'))"
   ]
  },
  {
   "cell_type": "code",
   "execution_count": 30,
   "metadata": {
    "collapsed": false
   },
   "outputs": [
    {
     "name": "stdout",
     "output_type": "stream",
     "text": [
      "train: 0.217501585289\n",
      "test: 0.199112238427\n"
     ]
    }
   ],
   "source": [
    "from sklearn.ensemble import RandomForestClassifier\n",
    "rfc = RandomForestClassifier(n_estimators = 900, max_depth=2)\n",
    "rfc.fit(new_X_train, y_train,sample_weight=wt_train_)\n",
    "y_pred = rfc.predict(new_X_train)\n",
    "print('train:', metrics.accuracy_score(y_train, y_pred))\n",
    "y_pred = rfc.predict(new_X_test)\n",
    "print('test:', metrics.accuracy_score(y_test, y_pred))"
   ]
  },
  {
   "cell_type": "code",
   "execution_count": 33,
   "metadata": {
    "collapsed": false
   },
   "outputs": [
    {
     "name": "stdout",
     "output_type": "stream",
     "text": [
      "Training Data Accuracy: 0.21\n",
      "Test Data Accuracy:     0.19\n",
      "\n",
      "\n",
      "Precision:              nan\n",
      "Recall:                 nan\n",
      "\n",
      "Confusion Matrix:\n",
      "\n",
      "[[  0   0   0  14  22   0  18   0   0   4   0  53]\n",
      " [  0   0   0  12  41   0  20   0   0   4   0  41]\n",
      " [  0   0   0  16  46   0  19   0   0   1   0  30]\n",
      " [  0   0   0  56  41   0  12   0   0   3   0  50]\n",
      " [  0   0   0   7 138   0  10   0   0   3   0   9]\n",
      " [  0   0   0  19  49   0  22   0   0   7   0  59]\n",
      " [  0   0   0  27  57   0  19   0   0   8   0  48]\n",
      " [  0   0   0   6  48   0  15   0   0   6   0  29]\n",
      " [  0   0   0  10  18   0   6   0   0   6   0  20]\n",
      " [  0   0   0  12  46   0  21   0   0  23   0  33]\n",
      " [  0   0   0  32  31   0  20   0   0  16   0  47]\n",
      " [  0   0   0  41  32   0  12   0   0   9   0  65]]\n"
     ]
    },
    {
     "name": "stderr",
     "output_type": "stream",
     "text": [
      "/Applications/anaconda/lib/python3.6/site-packages/ipykernel/__main__.py:22: RuntimeWarning: invalid value encountered in double_scalars\n",
      "/Applications/anaconda/lib/python3.6/site-packages/ipykernel/__main__.py:23: RuntimeWarning: invalid value encountered in double_scalars\n"
     ]
    },
    {
     "data": {
      "image/png": "[encoded data removed]",
      "text/plain": [
       "<matplotlib.figure.Figure at 0x11c092b70>"
      ]
     },
     "metadata": {},
     "output_type": "display_data"
    }
   ],
   "source": [
    "from sklearn.metrics import confusion_matrix\n",
    "# Generate a confusion matrix plot: \n",
    "\n",
    "def plot_confusion_matrix(cm,title='Confusion matrix', cmap=plt.cm.Reds):\n",
    "    plt.imshow(cm, interpolation='nearest',cmap=cmap)\n",
    "    plt.title(title)\n",
    "    plt.colorbar()\n",
    "    plt.tight_layout()\n",
    "    plt.ylabel('True label')\n",
    "    plt.xlabel('Predicted label')\n",
    "\n",
    "# accuracy for test & train:\n",
    "train_acc=rfc.score(new_X_train, y_train,sample_weight=wt_train_)\n",
    "test_acc=rfc.score(new_X_test,y_test,sample_weight=wt_test_)\n",
    "print(\"Training Data Accuracy: %0.2f\" %(train_acc))\n",
    "print(\"Test Data Accuracy:     %0.2f\" %(test_acc))\n",
    "\n",
    "y_true = y_test\n",
    "y_pred = rfc.predict(new_X_test)\n",
    "conf = confusion_matrix(y_true, y_pred, sample_weight=wt_test_)\n",
    "print ('\\n')\n",
    "print (\"Precision:              %0.2f\" %(conf[0, 0] / (conf[0, 0] + conf[1, 0])))\n",
    "print (\"Recall:                 %0.2f\"% (conf[0, 0] / (conf[0, 0] + conf[0, 1])))\n",
    "print ('\\nConfusion Matrix:\\n')\n",
    "print(conf.astype(int))\n",
    "\n",
    "cm=confusion_matrix(y_true, y_pred, labels=None, sample_weight=wt_test_)\n",
    "\n",
    "plt.figure()\n",
    "plot_confusion_matrix(cm)"
   ]
  }
 ],
 "metadata": {
  "kernelspec": {
   "display_name": "Python 3",
   "language": "python",
   "name": "python3"
  },
  "language_info": {
   "codemirror_mode": {
    "name": "ipython",
    "version": 3
   },
   "file_extension": ".py",
   "mimetype": "text/x-python",
   "name": "python",
   "nbconvert_exporter": "python",
   "pygments_lexer": "ipython3",
   "version": "3.6.0"
  },
  "toc": {
   "colors": {
    "hover_highlight": "#DAA520",
    "running_highlight": "#FF0000",
    "selected_highlight": "#FFD700"
   },
   "moveMenuLeft": true,
   "nav_menu": {
    "height": "12px",
    "width": "252px"
   },
   "navigate_menu": true,
   "number_sections": true,
   "sideBar": true,
   "threshold": 4,
   "toc_cell": false,
   "toc_section_display": "block",
   "toc_window_display": false,
   "widenNotebook": false
  }
 },
 "nbformat": 4,
 "nbformat_minor": 2
}
