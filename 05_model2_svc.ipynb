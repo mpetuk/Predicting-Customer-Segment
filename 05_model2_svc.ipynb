{
 "cells": [
  {
   "cell_type": "code",
   "execution_count": 9,
   "metadata": {
    "collapsed": false
   },
   "outputs": [],
   "source": [
    "import numpy as np\n",
    "import pandas as pd\n",
    "import matplotlib.pyplot as plt\n",
    "#from sklearn.cross_validation import train_test_split\n",
    "from sklearn.model_selection import train_test_split\n",
    "from sklearn.model_selection import ShuffleSplit\n",
    "from sklearn.preprocessing import StandardScaler\n",
    "from sklearn import metrics\n",
    "import pickle\n",
    "from sklearn.decomposition import PCA\n",
    "\n",
    "%matplotlib inline"
   ]
  },
  {
   "cell_type": "code",
   "execution_count": 10,
   "metadata": {
    "collapsed": true
   },
   "outputs": [],
   "source": [
    "### Read in inputs dataframe as well as weights and target series from job 03_var_reduction.ipynb\n",
    "new_X_train = pickle.load(open(\"new_train_inputs.p\",'rb'))\n",
    "new_X_test = pickle.load(open(\"new_test_inputs.p\",'rb'))\n",
    "y_train = pickle.load(open(\"y_train.p\",'rb'))\n",
    "y_test = pickle.load(open(\"y_test.p\",'rb'))\n",
    "wt_train_ = pickle.load(open(\"wt_train_.p\",'rb'))\n",
    "wt_test_ = pickle.load(open(\"wt_test_.p\",'rb'))"
   ]
  },
  {
   "cell_type": "code",
   "execution_count": 11,
   "metadata": {
    "collapsed": true
   },
   "outputs": [],
   "source": [
    "def report2(results, n_top=1):\n",
    "    for i in range(1, n_top + 1):\n",
    "        candidates = np.flatnonzero(results['rank_test_score'] == i)\n",
    "        for candidate in candidates:\n",
    "            print(\"Model with rank: {0}\".format(i))\n",
    "            print(\"Mean validation score: {0:.3f} (std: {1:.3f})\".format(\n",
    "                  results['mean_test_score'][candidate],\n",
    "                  results['std_test_score'][candidate]))\n",
    "            print(\"Parameters: {0}\".format(results['params'][candidate]))\n",
    "            print(\"\")"
   ]
  },
  {
   "cell_type": "code",
   "execution_count": 7,
   "metadata": {
    "collapsed": false
   },
   "outputs": [
    {
     "name": "stdout",
     "output_type": "stream",
     "text": [
      "Model with rank: 1\n",
      "Mean validation score: 0.192 (std: 0.007)\n",
      "Parameters: {'C': 1, 'gamma': 0.001}\n",
      "\n"
     ]
    }
   ],
   "source": [
    "from sklearn.model_selection import GridSearchCV\n",
    "from sklearn.svm import SVC\n",
    "### Select estimator\n",
    "svm = SVC(kernel='rbf', cache_size=7000)\n",
    "### Set up grid search\n",
    "param_grid = {\n",
    "              'C': [1, 10, 100], \n",
    "              'gamma': [0.1, 0.01, 0.001]\n",
    "             }\n",
    "             \n",
    "grid_search = GridSearchCV(svm, param_grid=param_grid, fit_params={'sample_weight': wt_train_})\n",
    "\n",
    "grid_search.fit(new_X_train, y_train)\n",
    "report2(grid_search.cv_results_) "
   ]
  },
  {
   "cell_type": "code",
   "execution_count": 22,
   "metadata": {
    "collapsed": false
   },
   "outputs": [
    {
     "name": "stdout",
     "output_type": "stream",
     "text": [
      "Model with rank: 1\n",
      "Mean validation score: 0.166 (std: 0.014)\n",
      "Parameters: {'C': 1, 'gamma': 0.001}\n",
      "\n",
      "2 [ 0.12298248  0.04204066]\n",
      "Model with rank: 1\n",
      "Mean validation score: 0.185 (std: 0.015)\n",
      "Parameters: {'C': 1, 'gamma': 0.001}\n",
      "\n",
      "5 [ 0.12298248  0.04204066  0.03322995  0.0253291   0.0228212 ]\n",
      "Model with rank: 1\n",
      "Mean validation score: 0.179 (std: 0.015)\n",
      "Parameters: {'C': 1, 'gamma': 0.001}\n",
      "\n",
      "8 [ 0.12298248  0.04204066  0.03322995  0.02532915  0.0228214   0.01998307\n",
      "  0.01743532  0.01538404]\n",
      "Model with rank: 1\n",
      "Mean validation score: 0.193 (std: 0.009)\n",
      "Parameters: {'C': 1, 'gamma': 0.001}\n",
      "\n",
      "10 [ 0.12298248  0.04204066  0.03322995  0.02532911  0.02282135  0.01998348\n",
      "  0.01743545  0.01537758  0.01476704  0.01423835]\n",
      "Model with rank: 1\n",
      "Mean validation score: 0.192 (std: 0.019)\n",
      "Parameters: {'C': 1, 'gamma': 0.001}\n",
      "\n",
      "15 [ 0.12298248  0.04204066  0.03322995  0.02532915  0.02282143  0.01998364\n",
      "  0.01743627  0.01538893  0.01477519  0.01425204  0.01384561  0.01321387\n",
      "  0.01261581  0.01234929  0.0113403 ]\n",
      "Model with rank: 1\n",
      "Mean validation score: 0.192 (std: 0.013)\n",
      "Parameters: {'C': 1, 'gamma': 0.001}\n",
      "\n",
      "25 [ 0.12298248  0.04204066  0.03322994  0.02532898  0.02282092  0.01998185\n",
      "  0.0174351   0.01538351  0.01476416  0.01424907  0.01383762  0.01318938\n",
      "  0.01258955  0.01235869  0.01129978  0.01103924  0.01065025  0.01026057\n",
      "  0.00975718  0.00961108  0.00928263  0.00915215  0.00903453  0.00843308\n",
      "  0.00808885]\n",
      "Model with rank: 1\n",
      "Mean validation score: 0.193 (std: 0.019)\n",
      "Parameters: {'C': 1, 'gamma': 0.001}\n",
      "\n",
      "50 [ 0.12298248  0.04204066  0.03322995  0.02532915  0.02282143  0.01998368\n",
      "  0.01743639  0.01538904  0.01477786  0.01425641  0.01384672  0.01321425\n",
      "  0.01262352  0.01236888  0.0113495   0.01109375  0.01069177  0.0103574\n",
      "  0.0098509   0.00965779  0.00962986  0.00929407  0.00922166  0.00858183\n",
      "  0.00845397  0.00823533  0.00799964  0.0078791   0.00755649  0.00734918\n",
      "  0.00730316  0.00706153  0.00695577  0.00692625  0.00678108  0.00644593\n",
      "  0.00633953  0.00622057  0.00618641  0.00615152  0.00591718  0.00588225\n",
      "  0.00576525  0.00565359  0.00560952  0.00546366  0.00536152  0.00533387\n",
      "  0.00529731  0.00513941]\n"
     ]
    }
   ],
   "source": [
    "\n",
    "### Select estimator\n",
    "svm = SVC(kernel='rbf', cache_size=7000)\n",
    "### Set up grid search\n",
    "param_grid = {\n",
    "              'C': [1], \n",
    "              'gamma': [0.001]\n",
    "             }\n",
    "             \n",
    "grid_search = GridSearchCV(svm, param_grid=param_grid, cv=10, fit_params={'sample_weight': wt_train_})\n",
    "\n",
    "\n",
    "n_components = [2, 5, 8, 10, 15, 25, 50]\n",
    "for n in n_components:\n",
    "    pca = PCA(n_components=n)\n",
    "    pcafeatures_train = pca.fit_transform(new_X_train)\n",
    "    grid_search.fit(pcafeatures_train,y_train)\n",
    "    report2(grid_search.cv_results_) \n",
    "    print(pca.n_components, pca.explained_variance_ratio_)"
   ]
  },
  {
   "cell_type": "code",
   "execution_count": 23,
   "metadata": {
    "collapsed": true
   },
   "outputs": [],
   "source": [
    "svc = SVC(C=1,gamma=0.001)\n",
    "pca = PCA(n_components=10)\n",
    "pcafeatures_train = pca.fit_transform(new_X_train)\n",
    "svc.fit(pcafeatures_train,y_train,sample_weight=wt_train_)\n",
    "pcafeatures_test = pca.fit_transform(new_X_test)"
   ]
  },
  {
   "cell_type": "code",
   "execution_count": 26,
   "metadata": {
    "collapsed": false
   },
   "outputs": [
    {
     "name": "stdout",
     "output_type": "stream",
     "text": [
      "Training Data Accuracy: 0.20\n",
      "Test Data Accuracy:     0.13\n",
      "\n",
      "\n",
      "Precision:              nan\n",
      "Recall:                 nan\n",
      "\n",
      "Confusion Matrix:\n",
      "\n",
      "[[ 0  0  0 44 29  3 19  0  0  8  0  8]\n",
      " [ 0  0  0 36 30  4 20  0  0 11  0 16]\n",
      " [ 0  0  0 30 16  2 22  0  0 15  0 25]\n",
      " [ 0  0  0 88 25  4 20  0  0  9  0 15]\n",
      " [ 0  0  0 12 40  1 24  0  0 50  0 39]\n",
      " [ 0  0  0 53 41  6 29  0  0 11  0 16]\n",
      " [ 0  0  0 49 37  5 29  0  0 20  0 18]\n",
      " [ 0  0  0 17 35  5 14  0  0 25  0  8]\n",
      " [ 0  0  0 18 16  1  9  0  0 10  0  5]\n",
      " [ 0  0  0 26 62  3  9  0  0 26  0  7]\n",
      " [ 0  0  0 60 37  8 21  0  0 10  0  8]\n",
      " [ 0  0  0 74 31  8 26  0  0  7  0 14]]\n"
     ]
    },
    {
     "name": "stderr",
     "output_type": "stream",
     "text": [
      "/Applications/anaconda/lib/python3.6/site-packages/ipykernel/__main__.py:22: RuntimeWarning: invalid value encountered in double_scalars\n",
      "/Applications/anaconda/lib/python3.6/site-packages/ipykernel/__main__.py:23: RuntimeWarning: invalid value encountered in double_scalars\n"
     ]
    },
    {
     "data": {
      "image/png": "[encoded data removed]",
      "text/plain": [
       "<matplotlib.figure.Figure at 0x10dce3b70>"
      ]
     },
     "metadata": {},
     "output_type": "display_data"
    }
   ],
   "source": [
    "from sklearn.metrics import confusion_matrix\n",
    "# Generate a confusion matrix plot: \n",
    "\n",
    "def plot_confusion_matrix(cm,title='Confusion matrix', cmap=plt.cm.Reds):\n",
    "    plt.imshow(cm, interpolation='nearest',cmap=cmap)\n",
    "    plt.title(title)\n",
    "    plt.colorbar()\n",
    "    plt.tight_layout()\n",
    "    plt.ylabel('True label')\n",
    "    plt.xlabel('Predicted label')\n",
    "\n",
    "# accuracy for test & train:\n",
    "train_acc=svc.score(pcafeatures_train, y_train,sample_weight=wt_train_)\n",
    "test_acc=svc.score(pcafeatures_test,y_test,sample_weight=wt_test_)\n",
    "print(\"Training Data Accuracy: %0.2f\" %(train_acc))\n",
    "print(\"Test Data Accuracy:     %0.2f\" %(test_acc))\n",
    "\n",
    "y_true = y_test\n",
    "y_pred = svc.predict(pcafeatures_test)\n",
    "conf = confusion_matrix(y_true, y_pred,sample_weight=wt_test_)\n",
    "print ('\\n')\n",
    "print (\"Precision:              %0.2f\" %(conf[0, 0] / (conf[0, 0] + conf[1, 0])))\n",
    "print (\"Recall:                 %0.2f\"% (conf[0, 0] / (conf[0, 0] + conf[0, 1])))\n",
    "print ('\\nConfusion Matrix:\\n')\n",
    "print(conf.astype(int))\n",
    "\n",
    "cm=confusion_matrix(y_true, y_pred, labels=None)\n",
    "\n",
    "plt.figure()\n",
    "plot_confusion_matrix(cm)"
   ]
  },
  {
   "cell_type": "code",
   "execution_count": null,
   "metadata": {
    "collapsed": true
   },
   "outputs": [],
   "source": []
  }
 ],
 "metadata": {
  "kernelspec": {
   "display_name": "Python 3",
   "language": "python",
   "name": "python3"
  },
  "language_info": {
   "codemirror_mode": {
    "name": "ipython",
    "version": 3
   },
   "file_extension": ".py",
   "mimetype": "text/x-python",
   "name": "python",
   "nbconvert_exporter": "python",
   "pygments_lexer": "ipython3",
   "version": "3.6.0"
  },
  "toc": {
   "colors": {
    "hover_highlight": "#DAA520",
    "running_highlight": "#FF0000",
    "selected_highlight": "#FFD700"
   },
   "moveMenuLeft": true,
   "nav_menu": {
    "height": "12px",
    "width": "252px"
   },
   "navigate_menu": true,
   "number_sections": true,
   "sideBar": true,
   "threshold": 4,
   "toc_cell": false,
   "toc_section_display": "block",
   "toc_window_display": false,
   "widenNotebook": false
  }
 },
 "nbformat": 4,
 "nbformat_minor": 2
}
