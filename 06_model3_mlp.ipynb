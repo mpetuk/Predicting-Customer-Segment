{
 "cells": [
  {
   "cell_type": "code",
   "execution_count": 2,
   "metadata": {
    "collapsed": false
   },
   "outputs": [],
   "source": [
    "import numpy as np\n",
    "import pandas as pd\n",
    "import matplotlib.pyplot as plt\n",
    "#from sklearn.cross_validation import train_test_split\n",
    "from sklearn.model_selection import train_test_split\n",
    "from sklearn.model_selection import ShuffleSplit\n",
    "from sklearn.preprocessing import StandardScaler\n",
    "from sklearn import metrics\n",
    "import pickle\n",
    "from sklearn.decomposition import PCA\n",
    "\n",
    "%matplotlib inline"
   ]
  },
  {
   "cell_type": "code",
   "execution_count": 3,
   "metadata": {
    "collapsed": true
   },
   "outputs": [],
   "source": [
    "### Read in inputs dataframe as well as weights and target series from job 03_var_reduction.ipynb\n",
    "new_X_train = pickle.load(open(\"new_train_inputs.p\",'rb'))\n",
    "new_X_test = pickle.load(open(\"new_test_inputs.p\",'rb'))\n",
    "y_train = pickle.load(open(\"y_train.p\",'rb'))\n",
    "y_test = pickle.load(open(\"y_test.p\",'rb'))\n",
    "wt_train_ = pickle.load(open(\"wt_train_.p\",'rb'))\n",
    "wt_test_ = pickle.load(open(\"wt_test_.p\",'rb'))"
   ]
  },
  {
   "cell_type": "code",
   "execution_count": 16,
   "metadata": {
    "collapsed": false
   },
   "outputs": [],
   "source": [
    "pca = PCA(n_components=10)\n",
    "pcafeatures_train = pca.fit_transform(new_X_train)\n",
    "pcafeatures_test = pca.fit_transform(new_X_test)"
   ]
  },
  {
   "cell_type": "code",
   "execution_count": 18,
   "metadata": {
    "collapsed": false
   },
   "outputs": [
    {
     "name": "stdout",
     "output_type": "stream",
     "text": [
      "train: 0.124286620165\n",
      "test: 0.124920735574\n"
     ]
    }
   ],
   "source": [
    "from sklearn.neural_network import MLPClassifier\n",
    "mlp2 = MLPClassifier(solver='adam', activation=\"relu\",max_iter=1000,hidden_layer_sizes=(3,4,3))\n",
    "mlp2.fit(pcafeatures_train, y_train)\n",
    "y_pred = mlp2.predict(pcafeatures_train)\n",
    "print('train:',metrics.accuracy_score(y_train, y_pred))\n",
    "y_pred = mlp2.predict(pcafeatures_test)\n",
    "print('test:', metrics.accuracy_score(y_test, y_pred))"
   ]
  },
  {
   "cell_type": "code",
   "execution_count": 19,
   "metadata": {
    "collapsed": false
   },
   "outputs": [
    {
     "data": {
      "text/plain": [
       "MLPClassifier(activation='relu', alpha=0.0001, batch_size='auto', beta_1=0.9,\n",
       "       beta_2=0.999, early_stopping=False, epsilon=1e-08,\n",
       "       hidden_layer_sizes=(3, 4, 3), learning_rate='constant',\n",
       "       learning_rate_init=0.001, max_iter=1000, momentum=0.9,\n",
       "       nesterovs_momentum=True, power_t=0.5, random_state=None,\n",
       "       shuffle=True, solver='adam', tol=0.0001, validation_fraction=0.1,\n",
       "       verbose=False, warm_start=False)"
      ]
     },
     "execution_count": 19,
     "metadata": {},
     "output_type": "execute_result"
    }
   ],
   "source": [
    "mlp2 = MLPClassifier(solver='adam', activation=\"relu\",max_iter=1000,hidden_layer_sizes=(3,4,3))\n",
    "mlp2.fit(pcafeatures_train,y_train)"
   ]
  },
  {
   "cell_type": "code",
   "execution_count": 21,
   "metadata": {
    "collapsed": false
   },
   "outputs": [
    {
     "name": "stdout",
     "output_type": "stream",
     "text": [
      "Training Data Accuracy: 0.17\n",
      "Test Data Accuracy:     0.14\n",
      "\n",
      "\n",
      "Precision:              nan\n",
      "Recall:                 0.00\n",
      "\n",
      "Confusion Matrix:\n",
      "\n",
      "[[ 0  0  0 41 50 12  0  0  0  0  0  9]\n",
      " [ 0  0  0 35 52 29  0  0  0  0  0  2]\n",
      " [ 0  0  0 32 39 30  0  0  0  0  0 12]\n",
      " [ 0  0  0 90 47 15  0  0  0  0  0 11]\n",
      " [ 0  0  0 28 74 41  0  0  0  0  0 24]\n",
      " [ 0  1  0 45 66 36  0  0  0  0  0  8]\n",
      " [ 0  0  0 48 69 28  0  0  0  0  0 14]\n",
      " [ 0  0  0 22 53 18  0  0  0  0  0 11]\n",
      " [ 0  0  0 18 26 13  0  0  0  0  0  4]\n",
      " [ 0  0  0 37 74 16  0  0  0  0  0  7]\n",
      " [ 0  0  0 50 60 23  0  0  0  0  0 14]\n",
      " [ 0  0  0 67 58 17  0  0  0  0  0 19]]\n"
     ]
    },
    {
     "name": "stderr",
     "output_type": "stream",
     "text": [
      "/Applications/anaconda/lib/python3.6/site-packages/ipykernel/__main__.py:22: RuntimeWarning: invalid value encountered in double_scalars\n"
     ]
    },
    {
     "data": {
      "image/png": "[encoded data removed]",
      "text/plain": [
       "<matplotlib.figure.Figure at 0x11dfbedd8>"
      ]
     },
     "metadata": {},
     "output_type": "display_data"
    }
   ],
   "source": [
    "\n",
    "from sklearn.metrics import confusion_matrix\n",
    "# Generate a confusion matrix plot: \n",
    "\n",
    "def plot_confusion_matrix(cm,title='Confusion matrix', cmap=plt.cm.Reds):\n",
    "    plt.imshow(cm, interpolation='nearest',cmap=cmap)\n",
    "    plt.title(title)\n",
    "    plt.colorbar()\n",
    "    plt.tight_layout()\n",
    "    plt.ylabel('True label')\n",
    "    plt.xlabel('Predicted label')\n",
    "\n",
    "train_acc=mlp2.score(pcafeatures_train, y_train,sample_weight=wt_train_)\n",
    "test_acc=mlp2.score(pcafeatures_test,y_test,sample_weight=wt_test_)\n",
    "print(\"Training Data Accuracy: %0.2f\" %(train_acc))\n",
    "print(\"Test Data Accuracy:     %0.2f\" %(test_acc))\n",
    "\n",
    "y_true = y_test\n",
    "y_pred = mlp2.predict(pcafeatures_test)\n",
    "conf = confusion_matrix(y_true, y_pred, sample_weight=wt_test_)\n",
    "print ('\\n')\n",
    "print (\"Precision:              %0.2f\" %(conf[0, 0] / (conf[0, 0] + conf[1, 0])))\n",
    "print (\"Recall:                 %0.2f\"% (conf[0, 0] / (conf[0, 0] + conf[0, 1])))\n",
    "print ('\\nConfusion Matrix:\\n')\n",
    "print(conf.astype(int))\n",
    "\n",
    "cm=confusion_matrix(y_true, y_pred, labels=None)\n",
    "\n",
    "plt.figure()\n",
    "plot_confusion_matrix(cm)"
   ]
  },
  {
   "cell_type": "code",
   "execution_count": null,
   "metadata": {
    "collapsed": true
   },
   "outputs": [],
   "source": []
  }
 ],
 "metadata": {
  "kernelspec": {
   "display_name": "Python 3",
   "language": "python",
   "name": "python3"
  },
  "language_info": {
   "codemirror_mode": {
    "name": "ipython",
    "version": 3
   },
   "file_extension": ".py",
   "mimetype": "text/x-python",
   "name": "python",
   "nbconvert_exporter": "python",
   "pygments_lexer": "ipython3",
   "version": "3.6.0"
  },
  "toc": {
   "colors": {
    "hover_highlight": "#DAA520",
    "running_highlight": "#FF0000",
    "selected_highlight": "#FFD700"
   },
   "moveMenuLeft": true,
   "nav_menu": {
    "height": "12px",
    "width": "252px"
   },
   "navigate_menu": true,
   "number_sections": true,
   "sideBar": true,
   "threshold": 4,
   "toc_cell": false,
   "toc_section_display": "block",
   "toc_window_display": false,
   "widenNotebook": false
  }
 },
 "nbformat": 4,
 "nbformat_minor": 2
}
